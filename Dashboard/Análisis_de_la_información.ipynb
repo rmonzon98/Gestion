{
  "nbformat": 4,
  "nbformat_minor": 0,
  "metadata": {
    "colab": {
      "name": "Análisis de la información.ipynb",
      "provenance": [],
      "collapsed_sections": []
    },
    "kernelspec": {
      "name": "python3",
      "display_name": "Python 3"
    },
    "language_info": {
      "name": "python"
    }
  },
  "cells": [
    {
      "cell_type": "markdown",
      "metadata": {
        "id": "2Kq38K0IcKKT"
      },
      "source": [
        "# Análisis de la información\n",
        "Dentro de este notebook se analizarán los datos dentro del excel compartido en la plataforma Canvas.\n"
      ]
    },
    {
      "cell_type": "code",
      "metadata": {
        "id": "1bBHZHb7cIDm"
      },
      "source": [
        "#Importamos las librerias necesarias para poder analizar el excel\n",
        "import pandas as pd"
      ],
      "execution_count": 13,
      "outputs": []
    },
    {
      "cell_type": "markdown",
      "metadata": {
        "id": "K-HT4JJYeCD2"
      },
      "source": [
        "Observamos el contenido de las primeras cinco filas "
      ]
    },
    {
      "cell_type": "code",
      "metadata": {
        "colab": {
          "base_uri": "https://localhost:8080/",
          "height": 296
        },
        "id": "1JTB9Eexdz2G",
        "outputId": "53b79f64-f0d1-44a0-eebb-e2889953115d"
      },
      "source": [
        "data = pd.read_excel('db.xls')\n",
        "data.head(3)"
      ],
      "execution_count": 14,
      "outputs": [
        {
          "output_type": "execute_result",
          "data": {
            "text/html": [
              "<div>\n",
              "<style scoped>\n",
              "    .dataframe tbody tr th:only-of-type {\n",
              "        vertical-align: middle;\n",
              "    }\n",
              "\n",
              "    .dataframe tbody tr th {\n",
              "        vertical-align: top;\n",
              "    }\n",
              "\n",
              "    .dataframe thead th {\n",
              "        text-align: right;\n",
              "    }\n",
              "</style>\n",
              "<table border=\"1\" class=\"dataframe\">\n",
              "  <thead>\n",
              "    <tr style=\"text-align: right;\">\n",
              "      <th></th>\n",
              "      <th>Usuario</th>\n",
              "      <th>Nombre Completo</th>\n",
              "      <th>Fecha de Última Contratación</th>\n",
              "      <th>Nombre Departamento</th>\n",
              "      <th>Estado del Empleado</th>\n",
              "      <th>Título de la Posición</th>\n",
              "      <th>Vacante</th>\n",
              "      <th>Función</th>\n",
              "      <th>Tipo de Colaborador</th>\n",
              "      <th>Tipo de Contratación</th>\n",
              "      <th>Tipo de Nómina</th>\n",
              "      <th>Pertenece a Sindicato</th>\n",
              "      <th>Ubicación</th>\n",
              "      <th>Tipo de contrato</th>\n",
              "      <th>Tipo de jornada</th>\n",
              "    </tr>\n",
              "  </thead>\n",
              "  <tbody>\n",
              "    <tr>\n",
              "      <th>0</th>\n",
              "      <td>U1174488</td>\n",
              "      <td>A</td>\n",
              "      <td>2016-07-18</td>\n",
              "      <td>Abastecimiento</td>\n",
              "      <td>Activo</td>\n",
              "      <td>Encargado de Grupo Limpieza General</td>\n",
              "      <td>0.0</td>\n",
              "      <td>Administrativo</td>\n",
              "      <td>Colaborador</td>\n",
              "      <td>Tiempo Completo</td>\n",
              "      <td>Planilla (Semanal)</td>\n",
              "      <td>NaN</td>\n",
              "      <td>Guatemala</td>\n",
              "      <td>Indefinido</td>\n",
              "      <td>Mixta</td>\n",
              "    </tr>\n",
              "    <tr>\n",
              "      <th>1</th>\n",
              "      <td>U1202277</td>\n",
              "      <td>B</td>\n",
              "      <td>2015-10-01</td>\n",
              "      <td>Manufactura</td>\n",
              "      <td>Con terminación de contrato</td>\n",
              "      <td>Empacador</td>\n",
              "      <td>0.0</td>\n",
              "      <td>Operarios</td>\n",
              "      <td>Colaborador</td>\n",
              "      <td>Tiempo Completo</td>\n",
              "      <td>Planilla (Semanal)</td>\n",
              "      <td>NaN</td>\n",
              "      <td>Costa Rica</td>\n",
              "      <td>Indefinido</td>\n",
              "      <td>Mixta</td>\n",
              "    </tr>\n",
              "    <tr>\n",
              "      <th>2</th>\n",
              "      <td>U1174527</td>\n",
              "      <td>C</td>\n",
              "      <td>2018-03-05</td>\n",
              "      <td>Servicio Técnico</td>\n",
              "      <td>Activo</td>\n",
              "      <td>Instructor Centro</td>\n",
              "      <td>0.0</td>\n",
              "      <td>Administrativo</td>\n",
              "      <td>Colaborador</td>\n",
              "      <td>Tiempo Completo</td>\n",
              "      <td>Nómina (Mensual)</td>\n",
              "      <td>No</td>\n",
              "      <td>Guatemala</td>\n",
              "      <td>Indefinido</td>\n",
              "      <td>Diurna</td>\n",
              "    </tr>\n",
              "  </tbody>\n",
              "</table>\n",
              "</div>"
            ],
            "text/plain": [
              "    Usuario Nombre Completo  ... Tipo de contrato Tipo de jornada\n",
              "0  U1174488               A  ...       Indefinido     Mixta      \n",
              "1  U1202277               B  ...       Indefinido   Mixta        \n",
              "2  U1174527               C  ...       Indefinido    Diurna      \n",
              "\n",
              "[3 rows x 15 columns]"
            ]
          },
          "metadata": {
            "tags": []
          },
          "execution_count": 14
        }
      ]
    },
    {
      "cell_type": "markdown",
      "metadata": {
        "id": "zjieDe0yfmyt"
      },
      "source": [
        "## Cantidad de vacantes por ubicación"
      ]
    },
    {
      "cell_type": "code",
      "metadata": {
        "colab": {
          "base_uri": "https://localhost:8080/",
          "height": 357
        },
        "id": "WO0lmLYhf_JV",
        "outputId": "2ddc7cb0-6ca5-48bd-f8fd-cc80b4206240"
      },
      "source": [
        "Vacante = data.loc[data['Vacante'] == True].groupby('Ubicación').count()[['Usuario']].sort_values('Usuario', ascending = False).reset_index()\n",
        "Vacante\n",
        "#Terminacion = data.loc[data['Estado del Empleado'] == 'Con terminación de contrato'].groupby('Ubicación').count()[['Usuario']].sort_values('Usuario', ascending = False).reset_index()"
      ],
      "execution_count": 15,
      "outputs": [
        {
          "output_type": "execute_result",
          "data": {
            "text/html": [
              "<div>\n",
              "<style scoped>\n",
              "    .dataframe tbody tr th:only-of-type {\n",
              "        vertical-align: middle;\n",
              "    }\n",
              "\n",
              "    .dataframe tbody tr th {\n",
              "        vertical-align: top;\n",
              "    }\n",
              "\n",
              "    .dataframe thead th {\n",
              "        text-align: right;\n",
              "    }\n",
              "</style>\n",
              "<table border=\"1\" class=\"dataframe\">\n",
              "  <thead>\n",
              "    <tr style=\"text-align: right;\">\n",
              "      <th></th>\n",
              "      <th>Ubicación</th>\n",
              "      <th>Usuario</th>\n",
              "    </tr>\n",
              "  </thead>\n",
              "  <tbody>\n",
              "    <tr>\n",
              "      <th>0</th>\n",
              "      <td>Guatemala</td>\n",
              "      <td>17812</td>\n",
              "    </tr>\n",
              "    <tr>\n",
              "      <th>1</th>\n",
              "      <td>El Salvador</td>\n",
              "      <td>11625</td>\n",
              "    </tr>\n",
              "    <tr>\n",
              "      <th>2</th>\n",
              "      <td>Costa Rica</td>\n",
              "      <td>2576</td>\n",
              "    </tr>\n",
              "    <tr>\n",
              "      <th>3</th>\n",
              "      <td>Honduras</td>\n",
              "      <td>956</td>\n",
              "    </tr>\n",
              "    <tr>\n",
              "      <th>4</th>\n",
              "      <td>República Dominicana</td>\n",
              "      <td>572</td>\n",
              "    </tr>\n",
              "    <tr>\n",
              "      <th>5</th>\n",
              "      <td>México</td>\n",
              "      <td>395</td>\n",
              "    </tr>\n",
              "    <tr>\n",
              "      <th>6</th>\n",
              "      <td>Nicaragua</td>\n",
              "      <td>51</td>\n",
              "    </tr>\n",
              "    <tr>\n",
              "      <th>7</th>\n",
              "      <td>Estados Unidos de América</td>\n",
              "      <td>37</td>\n",
              "    </tr>\n",
              "    <tr>\n",
              "      <th>8</th>\n",
              "      <td>Barbados</td>\n",
              "      <td>2</td>\n",
              "    </tr>\n",
              "    <tr>\n",
              "      <th>9</th>\n",
              "      <td>Panamá</td>\n",
              "      <td>1</td>\n",
              "    </tr>\n",
              "  </tbody>\n",
              "</table>\n",
              "</div>"
            ],
            "text/plain": [
              "                   Ubicación  Usuario\n",
              "0                  Guatemala    17812\n",
              "1                El Salvador    11625\n",
              "2                 Costa Rica     2576\n",
              "3                   Honduras      956\n",
              "4       República Dominicana      572\n",
              "5                     México      395\n",
              "6                  Nicaragua       51\n",
              "7  Estados Unidos de América       37\n",
              "8                   Barbados        2\n",
              "9                     Panamá        1"
            ]
          },
          "metadata": {
            "tags": []
          },
          "execution_count": 15
        }
      ]
    },
    {
      "cell_type": "markdown",
      "metadata": {
        "id": "xhyqFg4_tyaT"
      },
      "source": [
        "## Cantidad de empleados que sí pertenecen al sindicato por ubicación"
      ]
    },
    {
      "cell_type": "code",
      "metadata": {
        "colab": {
          "base_uri": "https://localhost:8080/",
          "height": 234
        },
        "id": "r5mirvSotrqO",
        "outputId": "e141b283-7a36-416b-d3bb-7e4240f47441"
      },
      "source": [
        "no_Sindicato = data.loc[(data['Pertenece a Sindicato'] == 'Si') & (data['Vacante'] == False)].groupby('Ubicación').count()[['Usuario']].sort_values('Usuario', ascending = False).reset_index()\n",
        "no_Sindicato"
      ],
      "execution_count": 16,
      "outputs": [
        {
          "output_type": "execute_result",
          "data": {
            "text/html": [
              "<div>\n",
              "<style scoped>\n",
              "    .dataframe tbody tr th:only-of-type {\n",
              "        vertical-align: middle;\n",
              "    }\n",
              "\n",
              "    .dataframe tbody tr th {\n",
              "        vertical-align: top;\n",
              "    }\n",
              "\n",
              "    .dataframe thead th {\n",
              "        text-align: right;\n",
              "    }\n",
              "</style>\n",
              "<table border=\"1\" class=\"dataframe\">\n",
              "  <thead>\n",
              "    <tr style=\"text-align: right;\">\n",
              "      <th></th>\n",
              "      <th>Ubicación</th>\n",
              "      <th>Usuario</th>\n",
              "    </tr>\n",
              "  </thead>\n",
              "  <tbody>\n",
              "    <tr>\n",
              "      <th>0</th>\n",
              "      <td>Nicaragua</td>\n",
              "      <td>13</td>\n",
              "    </tr>\n",
              "    <tr>\n",
              "      <th>1</th>\n",
              "      <td>Costa Rica</td>\n",
              "      <td>10</td>\n",
              "    </tr>\n",
              "    <tr>\n",
              "      <th>2</th>\n",
              "      <td>Guatemala</td>\n",
              "      <td>8</td>\n",
              "    </tr>\n",
              "    <tr>\n",
              "      <th>3</th>\n",
              "      <td>El Salvador</td>\n",
              "      <td>7</td>\n",
              "    </tr>\n",
              "    <tr>\n",
              "      <th>4</th>\n",
              "      <td>Honduras</td>\n",
              "      <td>5</td>\n",
              "    </tr>\n",
              "    <tr>\n",
              "      <th>5</th>\n",
              "      <td>República Dominicana</td>\n",
              "      <td>2</td>\n",
              "    </tr>\n",
              "  </tbody>\n",
              "</table>\n",
              "</div>"
            ],
            "text/plain": [
              "              Ubicación  Usuario\n",
              "0             Nicaragua       13\n",
              "1            Costa Rica       10\n",
              "2             Guatemala        8\n",
              "3           El Salvador        7\n",
              "4              Honduras        5\n",
              "5  República Dominicana        2"
            ]
          },
          "metadata": {
            "tags": []
          },
          "execution_count": 16
        }
      ]
    },
    {
      "cell_type": "markdown",
      "metadata": {
        "id": "b-tspcsK0u9b"
      },
      "source": [
        "## Cuantas personas hay por tipos de contratos"
      ]
    },
    {
      "cell_type": "code",
      "metadata": {
        "colab": {
          "base_uri": "https://localhost:8080/",
          "height": 203
        },
        "id": "up44_na20yPi",
        "outputId": "70fae93f-7544-49bc-a0d4-1c0bbeaa280b"
      },
      "source": [
        "jornada = data.groupby('Tipo de contrato').count()[['Usuario']].sort_values('Usuario', ascending = False).reset_index()\n",
        "jornada\n"
      ],
      "execution_count": 17,
      "outputs": [
        {
          "output_type": "execute_result",
          "data": {
            "text/html": [
              "<div>\n",
              "<style scoped>\n",
              "    .dataframe tbody tr th:only-of-type {\n",
              "        vertical-align: middle;\n",
              "    }\n",
              "\n",
              "    .dataframe tbody tr th {\n",
              "        vertical-align: top;\n",
              "    }\n",
              "\n",
              "    .dataframe thead th {\n",
              "        text-align: right;\n",
              "    }\n",
              "</style>\n",
              "<table border=\"1\" class=\"dataframe\">\n",
              "  <thead>\n",
              "    <tr style=\"text-align: right;\">\n",
              "      <th></th>\n",
              "      <th>Tipo de contrato</th>\n",
              "      <th>Usuario</th>\n",
              "    </tr>\n",
              "  </thead>\n",
              "  <tbody>\n",
              "    <tr>\n",
              "      <th>0</th>\n",
              "      <td>Indefinido</td>\n",
              "      <td>64776</td>\n",
              "    </tr>\n",
              "    <tr>\n",
              "      <th>1</th>\n",
              "      <td>Tiempo determinado</td>\n",
              "      <td>396</td>\n",
              "    </tr>\n",
              "    <tr>\n",
              "      <th>2</th>\n",
              "      <td>A Plazo</td>\n",
              "      <td>346</td>\n",
              "    </tr>\n",
              "    <tr>\n",
              "      <th>3</th>\n",
              "      <td>No Aplica</td>\n",
              "      <td>1</td>\n",
              "    </tr>\n",
              "    <tr>\n",
              "      <th>4</th>\n",
              "      <td>Individual</td>\n",
              "      <td>1</td>\n",
              "    </tr>\n",
              "  </tbody>\n",
              "</table>\n",
              "</div>"
            ],
            "text/plain": [
              "     Tipo de contrato  Usuario\n",
              "0          Indefinido    64776\n",
              "1  Tiempo determinado      396\n",
              "2            A Plazo       346\n",
              "3           No Aplica        1\n",
              "4     Individual             1"
            ]
          },
          "metadata": {
            "tags": []
          },
          "execution_count": 17
        }
      ]
    },
    {
      "cell_type": "markdown",
      "metadata": {
        "id": "MK0DEX9XwgJ4"
      },
      "source": [
        "## Departamentos con más empleados\n"
      ]
    },
    {
      "cell_type": "code",
      "metadata": {
        "colab": {
          "base_uri": "https://localhost:8080/",
          "height": 203
        },
        "id": "2GEZrtgkwflF",
        "outputId": "0b7f9b9e-65a0-464b-ec34-9ba5a483a896"
      },
      "source": [
        "departamentos = data.loc[data['Vacante'] == True]\n",
        "departamentos = departamentos.groupby('Nombre Departamento').count()[['Usuario']].sort_values('Usuario', ascending = False).reset_index()\n",
        "departamentos[:5]"
      ],
      "execution_count": 28,
      "outputs": [
        {
          "output_type": "execute_result",
          "data": {
            "text/html": [
              "<div>\n",
              "<style scoped>\n",
              "    .dataframe tbody tr th:only-of-type {\n",
              "        vertical-align: middle;\n",
              "    }\n",
              "\n",
              "    .dataframe tbody tr th {\n",
              "        vertical-align: top;\n",
              "    }\n",
              "\n",
              "    .dataframe thead th {\n",
              "        text-align: right;\n",
              "    }\n",
              "</style>\n",
              "<table border=\"1\" class=\"dataframe\">\n",
              "  <thead>\n",
              "    <tr style=\"text-align: right;\">\n",
              "      <th></th>\n",
              "      <th>Nombre Departamento</th>\n",
              "      <th>Usuario</th>\n",
              "    </tr>\n",
              "  </thead>\n",
              "  <tbody>\n",
              "    <tr>\n",
              "      <th>0</th>\n",
              "      <td>Operaciones Pollo Campero / Telepizza CAD</td>\n",
              "      <td>1125</td>\n",
              "    </tr>\n",
              "    <tr>\n",
              "      <th>1</th>\n",
              "      <td>Área Fría</td>\n",
              "      <td>361</td>\n",
              "    </tr>\n",
              "    <tr>\n",
              "      <th>2</th>\n",
              "      <td>Pollo Campero 115</td>\n",
              "      <td>340</td>\n",
              "    </tr>\n",
              "    <tr>\n",
              "      <th>3</th>\n",
              "      <td>Pollo Campero 118</td>\n",
              "      <td>338</td>\n",
              "    </tr>\n",
              "    <tr>\n",
              "      <th>4</th>\n",
              "      <td>Pollo Campero 683</td>\n",
              "      <td>329</td>\n",
              "    </tr>\n",
              "  </tbody>\n",
              "</table>\n",
              "</div>"
            ],
            "text/plain": [
              "                         Nombre Departamento  Usuario\n",
              "0  Operaciones Pollo Campero / Telepizza CAD     1125\n",
              "1                                  Área Fría      361\n",
              "2                          Pollo Campero 115      340\n",
              "3                          Pollo Campero 118      338\n",
              "4                          Pollo Campero 683      329"
            ]
          },
          "metadata": {
            "tags": []
          },
          "execution_count": 28
        }
      ]
    },
    {
      "cell_type": "markdown",
      "metadata": {
        "id": "V8t4RAJayyII"
      },
      "source": [
        "## Contrataciones por año"
      ]
    },
    {
      "cell_type": "code",
      "metadata": {
        "colab": {
          "base_uri": "https://localhost:8080/",
          "height": 203
        },
        "id": "zaBSO-4fy0VY",
        "outputId": "99f76648-e8f2-4f97-f295-e476fb25c39b"
      },
      "source": [
        "data['Ultima contratación'] = data['Fecha de Última Contratación'].apply(lambda x: x.year)\n",
        "contrataciones = data.groupby('Ultima contratación').count()[['Usuario']].sort_values('Usuario', ascending = False).reset_index()\n",
        "contrataciones[0:5]"
      ],
      "execution_count": 18,
      "outputs": [
        {
          "output_type": "execute_result",
          "data": {
            "text/html": [
              "<div>\n",
              "<style scoped>\n",
              "    .dataframe tbody tr th:only-of-type {\n",
              "        vertical-align: middle;\n",
              "    }\n",
              "\n",
              "    .dataframe tbody tr th {\n",
              "        vertical-align: top;\n",
              "    }\n",
              "\n",
              "    .dataframe thead th {\n",
              "        text-align: right;\n",
              "    }\n",
              "</style>\n",
              "<table border=\"1\" class=\"dataframe\">\n",
              "  <thead>\n",
              "    <tr style=\"text-align: right;\">\n",
              "      <th></th>\n",
              "      <th>Ultima contratación</th>\n",
              "      <th>Usuario</th>\n",
              "    </tr>\n",
              "  </thead>\n",
              "  <tbody>\n",
              "    <tr>\n",
              "      <th>0</th>\n",
              "      <td>2019.0</td>\n",
              "      <td>8643</td>\n",
              "    </tr>\n",
              "    <tr>\n",
              "      <th>1</th>\n",
              "      <td>2017.0</td>\n",
              "      <td>7817</td>\n",
              "    </tr>\n",
              "    <tr>\n",
              "      <th>2</th>\n",
              "      <td>2018.0</td>\n",
              "      <td>7644</td>\n",
              "    </tr>\n",
              "    <tr>\n",
              "      <th>3</th>\n",
              "      <td>2016.0</td>\n",
              "      <td>7583</td>\n",
              "    </tr>\n",
              "    <tr>\n",
              "      <th>4</th>\n",
              "      <td>2015.0</td>\n",
              "      <td>5654</td>\n",
              "    </tr>\n",
              "  </tbody>\n",
              "</table>\n",
              "</div>"
            ],
            "text/plain": [
              "   Ultima contratación  Usuario\n",
              "0               2019.0     8643\n",
              "1               2017.0     7817\n",
              "2               2018.0     7644\n",
              "3               2016.0     7583\n",
              "4               2015.0     5654"
            ]
          },
          "metadata": {
            "tags": []
          },
          "execution_count": 18
        }
      ]
    }
  ]
}